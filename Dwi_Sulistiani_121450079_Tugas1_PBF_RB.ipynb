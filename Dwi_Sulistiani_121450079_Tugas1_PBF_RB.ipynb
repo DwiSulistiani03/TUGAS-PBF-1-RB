{
  "nbformat": 4,
  "nbformat_minor": 0,
  "metadata": {
    "colab": {
      "provenance": []
    },
    "kernelspec": {
      "name": "python3",
      "display_name": "Python 3"
    },
    "language_info": {
      "name": "python"
    }
  },
  "cells": [
    {
      "cell_type": "code",
      "execution_count": null,
      "metadata": {
        "id": "LL-PU6xweSqk"
      },
      "outputs": [],
      "source": [
        "from functools import reduce"
      ]
    },
    {
      "cell_type": "code",
      "source": [
        "def encryot_password(password):"
      ],
      "metadata": {
        "id": "A_2Sc1y3ekB0"
      },
      "execution_count": null,
      "outputs": []
    },
    {
      "cell_type": "markdown",
      "source": [
        "Menukar masing-masing karakter menjadi ASCII value"
      ],
      "metadata": {
        "id": "i_WVECTZeuT3"
      }
    },
    {
      "cell_type": "code",
      "source": [
        "ascii_value = [ord(char) for char in password]"
      ],
      "metadata": {
        "id": "W2akuiLxe0x6"
      },
      "execution_count": null,
      "outputs": []
    },
    {
      "cell_type": "markdown",
      "source": [
        "Menentukan value pertama, kedua dan ketiga"
      ],
      "metadata": {
        "id": "gG5GV2jge_UU"
      }
    },
    {
      "cell_type": "code",
      "source": [
        "encrypt_value = [(chr((value//26)+80), chr(value%26+80), '+' if va:]"
      ],
      "metadata": {
        "id": "qCpVZKiafFXI"
      },
      "execution_count": null,
      "outputs": []
    },
    {
      "cell_type": "markdown",
      "source": [
        "Menggabungkan value pertama, kedua dan ketiga"
      ],
      "metadata": {
        "id": "6ffKD-8vfnjc"
      }
    },
    {
      "cell_type": "code",
      "source": [
        "encrypt_value = reduce(lambda acc, val: acc + val[0] + val [1]) "
      ],
      "metadata": {
        "id": "0KJ-6623ftz4"
      },
      "execution_count": null,
      "outputs": []
    },
    {
      "cell_type": "code",
      "source": [
        "return encrypt_password"
      ],
      "metadata": {
        "id": "EAD5lkVngHol"
      },
      "execution_count": null,
      "outputs": []
    },
    {
      "cell_type": "code",
      "source": [
        "password = input(\"Silahkan Masukan Password: \")"
      ],
      "metadata": {
        "id": "WQZXFF01gMr7"
      },
      "execution_count": null,
      "outputs": []
    },
    {
      "cell_type": "markdown",
      "source": [
        "Mengenkripsi password yang diinput"
      ],
      "metadata": {
        "id": "rWpe73OigZRF"
      }
    },
    {
      "cell_type": "code",
      "source": [
        "encrypt_password = encrypt_password(password)"
      ],
      "metadata": {
        "id": "6EA-CQTfgd59"
      },
      "execution_count": null,
      "outputs": []
    },
    {
      "cell_type": "markdown",
      "source": [
        "Menampilkan password yang diinput"
      ],
      "metadata": {
        "id": "9-uBq7cxgpcW"
      }
    },
    {
      "cell_type": "code",
      "source": [
        "print(\"Password Asli:\", password)"
      ],
      "metadata": {
        "id": "XuUUa2RPgtwZ"
      },
      "execution_count": null,
      "outputs": []
    },
    {
      "cell_type": "markdown",
      "source": [
        "Menampilkan password yang dienkripsi"
      ],
      "metadata": {
        "id": "3eB5De5rg0_Z"
      }
    },
    {
      "cell_type": "code",
      "source": [
        "print(\"Password terenkripsi:\", encrypted_password)"
      ],
      "metadata": {
        "id": "y9M-pmeag526"
      },
      "execution_count": null,
      "outputs": []
    }
  ]
}